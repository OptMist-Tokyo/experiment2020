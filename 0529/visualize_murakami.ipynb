{
 "cells": [
  {
   "cell_type": "code",
   "execution_count": 1,
   "metadata": {
    "collapsed": true
   },
   "outputs": [],
   "source": [
    "import numpy as np\n",
    "from PIL import Image, ImageDraw\n",
    "import random"
   ]
  },
  {
   "cell_type": "code",
   "execution_count": 2,
   "metadata": {
    "collapsed": true
   },
   "outputs": [],
   "source": [
    "#各種定数\n",
    "\n",
    "#生徒数\n",
    "n = 30\n",
    "\n",
    "#席の数と余白\n",
    "m1 = 7\n",
    "m2 = 8\n",
    "m = m1*m2\n",
    "front = 2\n",
    "back = 2\n",
    "lr = 1\n",
    "\n",
    "#席あたり(1マス)の縦横サイズ\n",
    "d1 = 160\n",
    "d2 = 240"
   ]
  },
  {
   "cell_type": "code",
   "execution_count": 3,
   "metadata": {
    "collapsed": true
   },
   "outputs": [],
   "source": [
    "#使う色\n",
    "white = (255,255,255)\n",
    "gray = (128, 128, 128)\n",
    "black = (0,0,0)\n",
    "red = (255, 0, 0)\n",
    "orange = (255, 165, 0)\n",
    "blue = (0, 0, 205)\n",
    "sky = (135, 206, 250)\n",
    "green = (60, 179, 113)\n",
    "ivory = (248, 244, 230)\n",
    "wood = (222, 184, 135)"
   ]
  },
  {
   "cell_type": "code",
   "execution_count": 4,
   "metadata": {
    "collapsed": true
   },
   "outputs": [],
   "source": [
    "#席番号から座標\n",
    "def xy(seat):\n",
    "    return (d2*(seat%m2 + lr), d1*(seat//m2 + front))"
   ]
  },
  {
   "cell_type": "code",
   "execution_count": 5,
   "metadata": {
    "collapsed": true
   },
   "outputs": [],
   "source": [
    "#データのベクトル\n",
    "#A = input() 的な"
   ]
  },
  {
   "cell_type": "code",
   "execution_count": 6,
   "metadata": {
    "collapsed": true
   },
   "outputs": [],
   "source": [
    "#テストデータ生成\n",
    "A = np.zeros(m*n)\n",
    "seat = 0\n",
    "for i in range(30):\n",
    "    A[m*i + seat] = 1\n",
    "    seat+=1\n",
    "    if(i%4 == 0):\n",
    "        seat+=1"
   ]
  },
  {
   "cell_type": "code",
   "execution_count": 7,
   "metadata": {
    "collapsed": true
   },
   "outputs": [],
   "source": [
    "#ベタ画像生成\n",
    "im = Image.new('RGB', (d2*(m2 + lr*2 - 1), d1*(m1 + front + back - 1)), ivory)\n",
    "draw = ImageDraw.Draw(im)"
   ]
  },
  {
   "cell_type": "code",
   "execution_count": 8,
   "metadata": {},
   "outputs": [],
   "source": [
    "#黒板を置く\n",
    "w = im.width\n",
    "draw.rectangle((w/4,d2/4,w*3/4,d2/2), fill = green, outline=black)"
   ]
  },
  {
   "cell_type": "code",
   "execution_count": 9,
   "metadata": {},
   "outputs": [],
   "source": [
    "#机を置く\n",
    "\n",
    "#机のサイズ\n",
    "desk_dy = d1/3\n",
    "desk_dx = d2/2\n",
    "\n",
    "#各マスの上端に置く\n",
    "for i1 in range(m1):\n",
    "    for i2 in range(m2):\n",
    "        y = d1*(i1 + front) - d1/2\n",
    "        x = d2*(i2 + lr) - desk_dx/2\n",
    "        draw.rectangle((x, y, x+desk_dx, y+desk_dy), fill=wood, outline=black)\n",
    "        "
   ]
  },
  {
   "cell_type": "code",
   "execution_count": 10,
   "metadata": {},
   "outputs": [],
   "source": [
    "#座らせる\n",
    "\n",
    "#生徒を表す丸の半径\n",
    "seat_r = d2/6\n",
    "\n",
    "#丸を描く矩形を求める\n",
    "def seat_xy(seat, i):\n",
    "    #各生徒で丸のサイズ調整したい時はここで変える(現状全員同じ)\n",
    "    r_i = seat_r\n",
    "    \n",
    "    le_up = (d2*(seat%m2 + lr) - r_i, d1*(seat//m2 + front) - r_i) #left_upper\n",
    "    return (le_up[0], le_up[1], le_up[0] + 2*r_i, le_up[1] + 2*r_i)\n",
    "    \n",
    "#各生徒の座席番号\n",
    "stdnts = np.nonzero(A)[0]\n",
    "stdnts = stdnts % (m*np.ones(n))\n",
    "\n",
    "for i in range(n):\n",
    "    col_i = sky\n",
    "    \n",
    "    #試しにランダムに色分けしてみよう\n",
    "    rand = random.random()\n",
    "    if(rand < 1/3):\n",
    "        col_i = red\n",
    "    elif(rand < 2/3):\n",
    "        col_i = sky\n",
    "    else:\n",
    "        col_i = orange\n",
    "    \n",
    "    draw.ellipse(seat_xy(stdnts[i], i), fill=col_i, outline=black)"
   ]
  },
  {
   "cell_type": "code",
   "execution_count": 11,
   "metadata": {
    "collapsed": true
   },
   "outputs": [],
   "source": [
    "#画像出力\n",
    "im.save('visualize_imagedraw.jpg', quality=95)"
   ]
  },
  {
   "cell_type": "code",
   "execution_count": null,
   "metadata": {},
   "outputs": [],
   "source": []
  },
  {
   "cell_type": "code",
   "execution_count": null,
   "metadata": {
    "collapsed": true
   },
   "outputs": [],
   "source": []
  }
 ],
 "metadata": {
  "kernelspec": {
   "display_name": "Python 3",
   "language": "python",
   "name": "python3"
  },
  "language_info": {
   "codemirror_mode": {
    "name": "ipython",
    "version": 3
   },
   "file_extension": ".py",
   "mimetype": "text/x-python",
   "name": "python",
   "nbconvert_exporter": "python",
   "pygments_lexer": "ipython3",
   "version": "3.6.3"
  }
 },
 "nbformat": 4,
 "nbformat_minor": 2
}
