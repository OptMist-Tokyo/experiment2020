{
 "cells": [
  {
   "cell_type": "code",
   "execution_count": 1,
   "metadata": {
    "collapsed": true
   },
   "outputs": [],
   "source": [
    "import numpy as np\n",
    "from PIL import Image, ImageDraw\n",
    "import random"
   ]
  },
  {
   "cell_type": "code",
   "execution_count": 2,
   "metadata": {
    "collapsed": true
   },
   "outputs": [],
   "source": [
    "# #データ入力\n",
    "\n",
    "# #生徒数\n",
    "# n = \n",
    "\n",
    "# #席の数\n",
    "# m1 = \n",
    "# m2 = \n",
    "# m = m1*m2\n",
    "\n",
    "# #配置データ サイズm*nのベクトル\n",
    "# A = \n",
    "\n",
    "# #満足度\n",
    "# S = \n",
    "# S_max = max(S)"
   ]
  },
  {
   "cell_type": "code",
   "execution_count": 3,
   "metadata": {
    "scrolled": true
   },
   "outputs": [],
   "source": [
    "# #標準入力からデータ入力？\n",
    "\n",
    "# #生徒数\n",
    "# n = int(input())\n",
    "\n",
    "# #席の数\n",
    "# m1 = int(input())\n",
    "# m2 = int(input())\n",
    "# m = m1*m2\n",
    "\n",
    "# #配置データ\n",
    "# #改行区切り用\n",
    "# # A = [int(input()) for i in range(m1*m2*n)]\n",
    "# #空白区切り用\n",
    "# A = list(map(int, input().split()))\n",
    "\n",
    "# #満足度\n",
    "# S = [int(input()) for i in range(n)]\n",
    "# S_max = max(S)"
   ]
  },
  {
   "cell_type": "code",
   "execution_count": 4,
   "metadata": {
    "collapsed": true
   },
   "outputs": [],
   "source": [
    "#テストデータ\n",
    "\n",
    "#生徒数\n",
    "n = 30\n",
    "\n",
    "#席の数\n",
    "m1 = 7\n",
    "m2 = 8\n",
    "m = m1*m2\n",
    "\n",
    "#配置データ\n",
    "A = np.zeros(m*n)\n",
    "seat = 0\n",
    "for i in range(30):\n",
    "    A[m*i + seat] = 1\n",
    "    seat+=1\n",
    "    if(i%4 == 0):\n",
    "        seat+=1\n",
    "        \n",
    "#満足度\n",
    "S = [random.random() for i in range(n)]\n",
    "S_max = max(S)"
   ]
  },
  {
   "cell_type": "code",
   "execution_count": 5,
   "metadata": {
    "collapsed": true
   },
   "outputs": [],
   "source": [
    "#定数\n",
    "\n",
    "#席の余白\n",
    "front = 2\n",
    "back = 2\n",
    "lr = 1\n",
    "\n",
    "#席あたり(1マス)の縦横サイズ\n",
    "d1 = 160\n",
    "d2 = 240\n",
    "\n",
    "#机のサイズ\n",
    "desk_dy = d1/3\n",
    "desk_dx = d2/2\n",
    "\n",
    "#生徒を表す丸の半径\n",
    "seat_r = d2/4\n",
    "\n",
    "#使う色\n",
    "white = (255,255,255)\n",
    "gray = (128, 128, 128)\n",
    "black = (0,0,0)\n",
    "red = (255, 0, 0)\n",
    "orange = (255, 165, 0)\n",
    "blue = (0, 0, 205)\n",
    "sky = (135, 206, 250)\n",
    "green = (60, 179, 113)\n",
    "ivory = (248, 244, 230)\n",
    "wood = (222, 184, 135)\n",
    "yellow = (255, 215, 0)"
   ]
  },
  {
   "cell_type": "code",
   "execution_count": 6,
   "metadata": {
    "collapsed": true
   },
   "outputs": [],
   "source": [
    "#席番号から座標を出す関数\n",
    "def xy(seat):\n",
    "    return (d2*(seat%m2 + lr), d1*(seat//m2 + front))"
   ]
  },
  {
   "cell_type": "code",
   "execution_count": 7,
   "metadata": {
    "collapsed": true
   },
   "outputs": [],
   "source": [
    "#ベタ画像生成\n",
    "im = Image.new('RGB', (d2*(m2 + lr*2 - 1), d1*(m1 + front + back - 1)), ivory)\n",
    "draw = ImageDraw.Draw(im)"
   ]
  },
  {
   "cell_type": "code",
   "execution_count": 8,
   "metadata": {
    "collapsed": true
   },
   "outputs": [],
   "source": [
    "#黒板を置く\n",
    "w = im.width\n",
    "draw.rectangle((w/4,d2/4,w*3/4,d2/2), fill = green, outline=black)"
   ]
  },
  {
   "cell_type": "code",
   "execution_count": 9,
   "metadata": {
    "collapsed": true
   },
   "outputs": [],
   "source": [
    "#机を置く\n",
    "\n",
    "#各マスの上端に置く\n",
    "for i1 in range(m1):\n",
    "    for i2 in range(m2):\n",
    "        y = d1*(i1 + front) - d1/2\n",
    "        x = d2*(i2 + lr) - desk_dx/2\n",
    "        draw.rectangle((x, y, x+desk_dx, y+desk_dy), fill=wood, outline=black)\n",
    "        \n",
    "#長机だった\n",
    "for i1 in range(m1):\n",
    "    #左の机\n",
    "    y = d1*(i1 + front) - d1/2\n",
    "    x_left = d2*(0 + lr) - desk_dx/2\n",
    "    x_right = d2*(m2/2 - 1 + lr) + desk_dx/2\n",
    "    draw.rectangle((x_left, y, x_right, y+desk_dy), fill=wood, outline=black)\n",
    "    #右の机\n",
    "    x_left = d2*(m2/2 + lr) - desk_dx/2\n",
    "    x_right = d2*(lr + m2 - 1) + desk_dx/2\n",
    "    draw.rectangle((x_left, y, x_right, y+desk_dy), fill=wood, outline=black)"
   ]
  },
  {
   "cell_type": "code",
   "execution_count": 10,
   "metadata": {
    "collapsed": true
   },
   "outputs": [],
   "source": [
    "#座らせる\n",
    "\n",
    "#丸を描く矩形を求める関数\n",
    "def seat_xy(seat, i):\n",
    "    #満足度で丸のサイズ調整\n",
    "    r_i = seat_r*(0.3 + 0.7*S[i]/S_max)\n",
    "    \n",
    "    le_up = (d2*(seat%m2 + lr) - r_i, d1*(seat//m2 + front) - r_i) #left_upper\n",
    "    return (le_up[0], le_up[1], le_up[0] + 2*r_i, le_up[1] + 2*r_i)\n",
    "    \n",
    "#各生徒の座席番号\n",
    "stdnts = np.nonzero(A)[0]\n",
    "stdnts = stdnts % (m*np.ones(n))\n",
    "\n",
    "for i in range(n):\n",
    "    col_i = sky\n",
    "    \n",
    "    #試しにランダムに色分けしてみよう\n",
    "#     rand = random.random()\n",
    "#     if(rand < 1/3):\n",
    "#         col_i = red\n",
    "#     elif(rand < 2/3):\n",
    "#         col_i = sky\n",
    "#     else:\n",
    "#         col_i = orange\n",
    "    \n",
    "    \n",
    "    #満足度が高い順に 青 > 黄 > 赤 で色分け\n",
    "    if(S[i]/S_max < 1/3):\n",
    "        col_i = red\n",
    "    elif(S[i]/S_max < 2/3):\n",
    "        col_i = yellow\n",
    "    else:\n",
    "        col_i = sky\n",
    "    \n",
    "    draw.ellipse(seat_xy(stdnts[i], i), fill=col_i, outline=black)"
   ]
  },
  {
   "cell_type": "code",
   "execution_count": 11,
   "metadata": {
    "collapsed": true
   },
   "outputs": [],
   "source": [
    "#画像を保存\n",
    "im.save('visualize_imagedraw.jpg', quality=95)"
   ]
  },
  {
   "cell_type": "code",
   "execution_count": null,
   "metadata": {},
   "outputs": [],
   "source": []
  },
  {
   "cell_type": "code",
   "execution_count": null,
   "metadata": {
    "collapsed": true
   },
   "outputs": [],
   "source": []
  }
 ],
 "metadata": {
  "kernelspec": {
   "display_name": "Python 3",
   "language": "python",
   "name": "python3"
  },
  "language_info": {
   "codemirror_mode": {
    "name": "ipython",
    "version": 3
   },
   "file_extension": ".py",
   "mimetype": "text/x-python",
   "name": "python",
   "nbconvert_exporter": "python",
   "pygments_lexer": "ipython3",
   "version": "3.6.3"
  }
 },
 "nbformat": 4,
 "nbformat_minor": 2
}
