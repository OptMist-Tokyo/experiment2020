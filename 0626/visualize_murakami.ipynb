{
 "cells": [
  {
   "cell_type": "code",
   "execution_count": 1,
   "metadata": {
    "collapsed": true
   },
   "outputs": [],
   "source": [
    "import numpy as np\n",
    "from PIL import Image, ImageDraw, ImageFont\n",
    "import random"
   ]
  },
  {
   "cell_type": "code",
   "execution_count": 2,
   "metadata": {
    "collapsed": true
   },
   "outputs": [],
   "source": [
    "import sys"
   ]
  },
  {
   "cell_type": "code",
   "execution_count": 3,
   "metadata": {
    "collapsed": true,
    "scrolled": true
   },
   "outputs": [],
   "source": [
    "'''\n",
    "入力形式：\n",
    "1行目：座席の行数，列数\n",
    "2行目：学生の総数\n",
    "3行目以降：\n",
    "各行ごとに\n",
    "    名前と選好度(ここでは1～5とする)\n",
    "以下，.txtでの読み込みを想定\n",
    "\n",
    "info = ('name','Blackboard','Window','Airconditioner','Edge','対象がいるかどうか(-1ならなにもなし)','隣に座りたい人の効用係数') #選好に対応する命名←人間は番号で決める\n",
    "\n",
    "#他人との距離に関する選好を追加しておきたい\n",
    "\n",
    "#rawのデータをsummarizedにまとめる\n",
    "def summarize(raw):\n",
    "    with open(raw, encoding = 'utf-8') as f:\n",
    "        row, column = map(int, f.readline().split()) #1行目：座席の行数，列数\n",
    "        total = int(f.readline()) #2行目：学生の総数\n",
    "\n",
    "        #3行目以降\n",
    "        students = [] #個人データ(名前と選好項目）\n",
    "        #1行ずつ全員分の個人データを読み込む\n",
    "        for i in range(total):\n",
    "            data = f.readline().split()\n",
    "            data[1:] = map(int, data[1:]) #先頭のname以外の要素をint型に変換\n",
    "            students.append(dict(zip(info, data))) #infoをkeyにして個人データを1人分ずつ辞書にまとめる\n",
    "\n",
    "    summarized = (row, column, total, students)\n",
    "    return summarized\n",
    "\n",
    "#raw_dataを受け取り，データをsummaized_dataにまとめる\n",
    "#raw_data = sys.argv[1] #サンプルデータはコマンドラインで指定\n",
    "raw_data = 'input_sample2.txt' #txtファイルを入力\n",
    "summarized_data = summarize(raw_data)\n",
    "'''\n",
    "\n",
    "info = ('name', 'Blackboard', 'Window','Airconditioner','Edge','NextTo') #選好に対応する命名\n",
    "#'NextTo_keisu'をつけるのを忘れない\n",
    "\n",
    "#rawのデータをsummarizedにまとめる\n",
    "def summarize(raw):\n",
    "    with open(raw, encoding = 'utf-8') as f:\n",
    "        row, column = map(int, f.readline().split()) #1行目：座席の行数，列数\n",
    "        total = int(f.readline()) #2行目：学生の総数\n",
    "\n",
    "        #3行目以降\n",
    "        #studentsは key:[選好度] の形の辞書\n",
    "        students = {key:[] for key in info} #選好項目ごとに値をリストにまとめる\n",
    "        #1行ずつ全員分の個人データを読み込む\n",
    "        for i in range(total):\n",
    "            data = f.readline().split()\n",
    "            data[1:5] = map(int, data[1:5]) #先頭のname, 末尾のNextTo以外の要素をint型に変換\n",
    "            j = 0\n",
    "            for key in info:\n",
    "                students[key].append(data[j])\n",
    "                j += 1\n",
    "        \n",
    "    summarized = (row, column, total, students)\n",
    "    return summarized\n",
    "\n",
    "#raw_dataを受け取り，データをsummarized_dataにまとめる\n",
    "raw_data = 'input_sample_full1.txt' #サンプルデータ\n",
    "summarized_data = summarize(raw_data)\n",
    "\n",
    "#NextToの値-1もstr型であることに注意"
   ]
  },
  {
   "cell_type": "code",
   "execution_count": 4,
   "metadata": {},
   "outputs": [
    {
     "data": {
      "text/plain": [
       "['No.1',\n",
       " 'No.2',\n",
       " 'No.3',\n",
       " 'No.4',\n",
       " 'No.5',\n",
       " 'No.6',\n",
       " 'No.7',\n",
       " 'No.8',\n",
       " 'No.9',\n",
       " 'No.10',\n",
       " 'No.11',\n",
       " 'No.12',\n",
       " 'No.13',\n",
       " 'No.14',\n",
       " 'No.15',\n",
       " 'No.16',\n",
       " 'No.17',\n",
       " 'No.18',\n",
       " 'No.19',\n",
       " 'No.20']"
      ]
     },
     "execution_count": 4,
     "metadata": {},
     "output_type": "execute_result"
    }
   ],
   "source": [
    "#確認用\n",
    "summarized_data[3]['name']"
   ]
  },
  {
   "cell_type": "code",
   "execution_count": 5,
   "metadata": {},
   "outputs": [],
   "source": [
    "#データ入力\n",
    "\n",
    "#生徒数\n",
    "n = summarized_data[2]\n",
    "\n",
    "#席の数\n",
    "m1 = summarized_data[0]\n",
    "m2 = summarized_data[1]\n",
    "m = m1*m2\n",
    "\n",
    "# #配置データ サイズm*nのベクトル\n",
    "# #A = np.zeros(m*n)\n",
    "#  A = x_result\n",
    "# '''\n",
    "# for i in range(N):\n",
    "#   for j in range(M):\n",
    "#     A[i*M + j] = x_cast[i,j]\n",
    "# '''\n",
    "\n",
    "# S = {}\n",
    "# for i in range(N):\n",
    "#   S[i] = 0\n",
    "\n",
    "\n",
    "\n",
    "# #配置データと満足度をランダムに決める\n",
    "# A = np.zeros(m*n)\n",
    "# seat = 0\n",
    "# for i in range(n):\n",
    "#     A[m*i + seat] = 1\n",
    "#     seat+=1\n",
    "#     if(i%4 == 0):\n",
    "#         seat+=1\n",
    "\n",
    "# S = [random.random() for i in range(n)]\n",
    "# S_max = max(S)\n",
    "\n",
    "# #満足度\n",
    "# S_max = max(S)\n",
    "\n",
    "\n",
    "\n",
    "#計算結果例を取り込む\n",
    "A = [0 for i in range(n*m)]\n",
    "c = [0 for i in range(n*m)]\n",
    "Q = [0 for i in range(n*m)]\n",
    "with open('x_full1.csv', encoding = 'utf-8') as f:\n",
    "    #1行ずつ読み込む\n",
    "        for i in range(n*m):\n",
    "            A[i] = f.readline()\n",
    "            A[i] = int(float(A[i]))\n",
    "with open('c_full1.csv', encoding = 'utf-8') as f:\n",
    "    #1行ずつ読み込む\n",
    "        for i in range(n*m):\n",
    "            c[i] = f.readline()\n",
    "            c[i] = int(float(c[i]))\n",
    "with open('Q_full1.csv', encoding = 'utf-8') as f:\n",
    "    #1行ずつ読み込む\n",
    "        for i in range(n*m):\n",
    "            Q[i] = f.readline().split(',')\n",
    "            for j in range(len(Q[i])):\n",
    "                Q[i][j] = int(float((Q[i][j])))"
   ]
  },
  {
   "cell_type": "code",
   "execution_count": 6,
   "metadata": {},
   "outputs": [],
   "source": [
    "###########################################\n",
    "#0626追加\n",
    "###########################################\n",
    "\n",
    "\n",
    "#各生徒の効用のリストSをつくる\n",
    "\n",
    "A = np.array(A)\n",
    "c = np.array(c)\n",
    "Q = np.array(Q)\n",
    "\n",
    "S = [0 for i in range(n)]\n",
    "for i in range(n):\n",
    "    #1次項\n",
    "    S[i] = np.dot(c[i*m:(i+1)*m],A[i*m:(i+1)*m])\n",
    "    #2次項\n",
    "    S[i] = S[i] + np.dot(np.dot(A,Q)[i*m:(i+1)*m],A[i*m:(i+1)*m])\n",
    "    \n",
    "S_max = max(S)"
   ]
  },
  {
   "cell_type": "code",
   "execution_count": 7,
   "metadata": {
    "collapsed": true
   },
   "outputs": [],
   "source": [
    "# #テストデータ\n",
    "\n",
    "# #生徒数\n",
    "# n = 30\n",
    "\n",
    "# #席の数\n",
    "# m1 = 7\n",
    "# m2 = 8\n",
    "# m = m1*m2\n",
    "\n",
    "# #配置データ\n",
    "# A = np.zeros(m*n)\n",
    "# seat = 0\n",
    "# for i in range(n):\n",
    "#     A[m*i + seat] = 1\n",
    "#     seat+=1\n",
    "#     if(i%4 == 0):\n",
    "#         seat+=1\n",
    "        \n",
    "# #満足度\n",
    "# S = [random.random() for i in range(n)]\n",
    "# S_max = max(S)"
   ]
  },
  {
   "cell_type": "code",
   "execution_count": 8,
   "metadata": {
    "collapsed": true
   },
   "outputs": [],
   "source": [
    "#定数\n",
    "\n",
    "#席の余白\n",
    "front = 2\n",
    "back = 2\n",
    "lr = 1\n",
    "\n",
    "#席あたり(1マス)の縦横サイズ\n",
    "d1 = 160\n",
    "d2 = 240\n",
    "\n",
    "#机のサイズ\n",
    "desk_dy = d1/3\n",
    "desk_dx = d2/2\n",
    "\n",
    "#生徒を表す丸の半径\n",
    "seat_r = d2/5\n",
    "\n",
    "#使う色\n",
    "white = (255,255,255)\n",
    "gray = (128, 128, 128)\n",
    "black = (0,0,0)\n",
    "red = (255, 0, 0)\n",
    "orange = (255, 165, 0)\n",
    "blue = (0, 0, 205)\n",
    "sky = (135, 206, 250)\n",
    "green = (60, 179, 113)\n",
    "ivory = (248, 244, 230)\n",
    "wood = (222, 184, 135)\n",
    "yellow = (255, 215, 0)"
   ]
  },
  {
   "cell_type": "code",
   "execution_count": 9,
   "metadata": {
    "collapsed": true
   },
   "outputs": [],
   "source": [
    "#席番号から座標を出す関数\n",
    "def xy(seat):\n",
    "    return (d2*(seat%m2 + lr), d1*(seat//m2 + front))"
   ]
  },
  {
   "cell_type": "code",
   "execution_count": 10,
   "metadata": {
    "collapsed": true
   },
   "outputs": [],
   "source": [
    "#ベタ画像生成\n",
    "im = Image.new('RGB', (d2*(m2 + lr*2 - 1), d1*(m1 + front + back - 1)), ivory)\n",
    "draw = ImageDraw.Draw(im)"
   ]
  },
  {
   "cell_type": "code",
   "execution_count": 11,
   "metadata": {
    "collapsed": true
   },
   "outputs": [],
   "source": [
    "#黒板を置く\n",
    "w = im.width\n",
    "draw.rectangle((w/4,d2/4,w*3/4,d2/2), fill = green, outline=black)"
   ]
  },
  {
   "cell_type": "code",
   "execution_count": 12,
   "metadata": {
    "collapsed": true
   },
   "outputs": [],
   "source": [
    "#机を置く\n",
    "\n",
    "#各マスの上端に置く\n",
    "for i1 in range(m1):\n",
    "    for i2 in range(m2):\n",
    "        y = d1*(i1 + front) - d1/2\n",
    "        x = d2*(i2 + lr) - desk_dx/2\n",
    "        draw.rectangle((x, y, x+desk_dx, y+desk_dy), fill=wood, outline=black)\n",
    "        \n",
    "#長机だった\n",
    "for i1 in range(m1):\n",
    "    #左の机\n",
    "    y = d1*(i1 + front) - d1/2\n",
    "    x_left = d2*(0 + lr) - desk_dx/2\n",
    "    x_right = d2*(m2/2 - 1 + lr) + desk_dx/2\n",
    "    draw.rectangle((x_left, y, x_right, y+desk_dy), fill=wood, outline=black)\n",
    "    #右の机\n",
    "    x_left = d2*(m2/2 + lr) - desk_dx/2\n",
    "    x_right = d2*(lr + m2 - 1) + desk_dx/2\n",
    "    draw.rectangle((x_left, y, x_right, y+desk_dy), fill=wood, outline=black)"
   ]
  },
  {
   "cell_type": "code",
   "execution_count": 13,
   "metadata": {},
   "outputs": [],
   "source": [
    "###########################################\n",
    "#0626改訂\n",
    "###########################################\n",
    "\n",
    "\n",
    "#座らせる\n",
    "\n",
    "#丸を描く矩形を求める関数\n",
    "def seat_xy(seat, i):\n",
    "    #満足度で丸のサイズ調整\n",
    "    r_i = seat_r*(0.3 + 0.7*S[i]/S_max)\n",
    "    \n",
    "    le_up = (d2*(seat%m2 + lr) - r_i, d1*(seat//m2 + front) - r_i) #left_upper\n",
    "    return (le_up[0], le_up[1], le_up[0] + 2*r_i, le_up[1] + 2*r_i)\n",
    "    \n",
    "#各生徒の座席番号\n",
    "stdnts = np.nonzero(A)[0]\n",
    "stdnts = stdnts % (m*np.ones(n))\n",
    "\n",
    "#名前を描く座標のリスト\n",
    "sign_place = ['' for i in range(n)]\n",
    "\n",
    "#テキストの設定\n",
    "font = ImageFont.truetype('/Library/Fonts/Arial Bold.ttf', 48)\n",
    "\n",
    "for i in range(n):\n",
    "    col_i = sky\n",
    "    \n",
    "    \n",
    "    #試しにランダムに色分けしてみよう\n",
    "#     rand = random.random()\n",
    "#     if(rand < 1/3):\n",
    "#         col_i = red\n",
    "#     elif(rand < 2/3):\n",
    "#         col_i = sky\n",
    "#     else:\n",
    "#         col_i = orange\n",
    "    \n",
    "    \n",
    "    #満足度が高い順に 青 > 黄 > 赤 で色分け\n",
    "    if(S[i]/S_max < 1/3):\n",
    "        col_i = red\n",
    "    elif(S[i]/S_max < 2/3):\n",
    "        col_i = yellow\n",
    "    else:\n",
    "        col_i = sky\n",
    "    \n",
    "    square = seat_xy(stdnts[i], i)\n",
    "    draw.ellipse(square, fill=col_i, outline=black)\n",
    "    \n",
    "    #名前を書いておく\n",
    "    #座席の中央に書く\n",
    "    sign_place[i] = ((square[0]+square[2])/2, (square[1]+square[3])/2)\n",
    "    draw.multiline_text(sign_place[i], summarized_data[3]['name'][i], fill=(0, 0, 0), font=font)"
   ]
  },
  {
   "cell_type": "code",
   "execution_count": 14,
   "metadata": {},
   "outputs": [],
   "source": [
    "###########################################\n",
    "#0626追加\n",
    "###########################################\n",
    "\n",
    "\n",
    "#矢印を描く関数\n",
    "def ARROW(xy1,xy2,draw,color=blue):\n",
    "    draw.line((xy1[0], xy1[1], xy2[0], xy2[1]), fill=color, width=4)\n",
    "    vec = np.array([xy2[0]-xy1[0],xy2[1]-xy1[1]])\n",
    "#     #######################\n",
    "#     print(\"サイズ調整してないvec\",end=\"\")\n",
    "#     print(vec)\n",
    "#     #######################\n",
    "    norm = np.sqrt(vec[0]*vec[0]+vec[1]*vec[1])\n",
    "    vec[0] = vec[0]*seat_r/norm\n",
    "    vec[1] = vec[1]*seat_r/norm\n",
    "#     #######################\n",
    "#     print(\"サイズ調整したvec\",end=\"\")\n",
    "#     print(vec)\n",
    "#     #######################\n",
    "    \n",
    "    t=15           \n",
    "    t = np.deg2rad(t)\n",
    "    a = np.array([[np.cos(t), -np.sin(t)],\n",
    "                  [np.sin(t),  np.cos(t)]])\n",
    "    vec_rot1 = np.dot(a, vec)\n",
    "    for i in range(len(vec_rot1)):\n",
    "        if np.isnan(vec_rot1[i]):\n",
    "            vec_rot1[i] = 0\n",
    "#     ##################\n",
    "#     print(\"Firstの丸め前\",end=\"\")\n",
    "#     print(vec_rot1)\n",
    "#     ##################\n",
    "    vec_rot1 = [int(float(vec_rot1[0])), int(float(vec_rot1[1]))]\n",
    "#     ##################\n",
    "#     print(\"Firstの丸め後\",end=\"\")\n",
    "#     print(vec_rot1)\n",
    "#     ##################\n",
    "    \n",
    "    t=-15\n",
    "    t = np.deg2rad(t)\n",
    "    a = np.array([[np.cos(t), -np.sin(t)],\n",
    "                  [np.sin(t),  np.cos(t)]])\n",
    "    vec_rot2 = np.dot(a, vec)\n",
    "    for i in range(len(vec_rot2)):\n",
    "        if np.isnan(vec_rot2[i]):\n",
    "            vec_rot2[i] = 0 \n",
    "#     ##################\n",
    "#     print(\"Secondの丸め前\",end=\"\")\n",
    "#     print(vec_rot2)\n",
    "#     ##################\n",
    "    vec_rot2 = [int(float(vec_rot2[0])), int(float(vec_rot2[1]))]\n",
    "#     ##################\n",
    "#     print(\"Secondの丸め前\",end=\"\")\n",
    "#     print(vec_rot2)\n",
    "#     ##################\n",
    "    \n",
    "    #細い矢印\n",
    "#     draw.line((xy2[0]-vec_rot1[0], xy2[1]-vec_rot1[1], xy2[0], xy2[1]), fill=color, width=4)\n",
    "#     draw.line((xy2[0]-vec_rot2[0], xy2[1]-vec_rot2[1], xy2[0], xy2[1]), fill=color, width=4)\n",
    "    #三角形\n",
    "    p1 = (xy2[0]-vec_rot1[0], xy2[1]-vec_rot1[1])\n",
    "    p2 = (xy2[0]-vec_rot2[0], xy2[1]-vec_rot2[1])\n",
    "    draw.polygon((p1, p2, xy2), fill=color)#, outline=(0,0,0))\n",
    "\n",
    "\n",
    "#テスト\n",
    "# ARROW([50,50],[100,50],draw)"
   ]
  },
  {
   "cell_type": "code",
   "execution_count": 15,
   "metadata": {
    "scrolled": true
   },
   "outputs": [
    {
     "name": "stderr",
     "output_type": "stream",
     "text": [
      "/Users/macuser/anaconda3/lib/python3.6/site-packages/ipykernel_launcher.py:15: RuntimeWarning: invalid value encountered in double_scalars\n",
      "  from ipykernel import kernelapp as app\n",
      "/Users/macuser/anaconda3/lib/python3.6/site-packages/ipykernel_launcher.py:16: RuntimeWarning: invalid value encountered in double_scalars\n",
      "  app.launch_new_instance()\n"
     ]
    }
   ],
   "source": [
    "###########################################\n",
    "#0626追加\n",
    "###########################################\n",
    "\n",
    "\n",
    "#仲のいい人を矢印で結ぶ\n",
    "\n",
    "NameList = summarized_data[3]['name']\n",
    "#とりあえず好きな人の名前(文字列)のリストを作る\n",
    "NextToList_name = [summarized_data[3]['NextTo'][i] for i in range(n)]\n",
    "NextToList = [0 for i in range(n)]\n",
    "#生徒番号に変換\n",
    "for i in range(n):\n",
    "    if(NextToList_name[i] == '-1'):\n",
    "        NextToList[i]=-1\n",
    "    else:\n",
    "        NextToList[i] = NameList.index(NextToList_name[i])\n",
    "    \n",
    "#矢印を引く\n",
    "for i in range(n):\n",
    "    if(NextToList[i]!=-1):\n",
    "#         ###################\n",
    "#         print(NameList[i])\n",
    "#         ##################\n",
    "        xy_from = sign_place[i]\n",
    "        xy_to = sign_place[NextToList[i]]\n",
    "#         draw.line((xy_from[0], xy_from[1], xy_to[0], xy_to[1]), fill=blue, width=4)\n",
    "        ARROW(xy_from,xy_to,draw)"
   ]
  },
  {
   "cell_type": "code",
   "execution_count": 16,
   "metadata": {},
   "outputs": [
    {
     "data": {
      "text/plain": [
       "[-1, -1, -1, 4, 7, -1, -1, 0, -1, -1, -1, -1, 0, -1, -1, 2, 16, -1, -1, -1]"
      ]
     },
     "execution_count": 16,
     "metadata": {},
     "output_type": "execute_result"
    }
   ],
   "source": [
    "#確認用\n",
    "NextToList"
   ]
  },
  {
   "cell_type": "code",
   "execution_count": 17,
   "metadata": {
    "collapsed": true
   },
   "outputs": [],
   "source": [
    "#画像を保存\n",
    "im.save('visualize_imagedraw.jpg', quality=95)"
   ]
  },
  {
   "cell_type": "code",
   "execution_count": null,
   "metadata": {
    "collapsed": true
   },
   "outputs": [],
   "source": []
  },
  {
   "cell_type": "code",
   "execution_count": null,
   "metadata": {
    "collapsed": true
   },
   "outputs": [],
   "source": []
  }
 ],
 "metadata": {
  "kernelspec": {
   "display_name": "Python 3",
   "language": "python",
   "name": "python3"
  },
  "language_info": {
   "codemirror_mode": {
    "name": "ipython",
    "version": 3
   },
   "file_extension": ".py",
   "mimetype": "text/x-python",
   "name": "python",
   "nbconvert_exporter": "python",
   "pygments_lexer": "ipython3",
   "version": "3.6.3"
  }
 },
 "nbformat": 4,
 "nbformat_minor": 2
}
